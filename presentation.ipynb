{
 "cells": [
  {
   "cell_type": "markdown",
   "metadata": {},
   "source": [
    "# Presentation - Group 1\n",
    "\n",
    "Members:<br>\n",
    "* AVINASH MANOJ SONTAKKE- 2017B5A70667P<br>\n",
    "* MANAN PANERI          - 2017B5A10768P<br>\n",
    "* TULIKA GANGULY        - 2017B5A70606P<br>\n",
    "* SRIJEN GUPTA          - 2018ABPS0755P<br>\n",
    "* SRUJANA N             - 2017A7PS0013P<br>\n"
   ]
  },
  {
   "cell_type": "markdown",
   "metadata": {},
   "source": [
    "# Roles\n",
    "Index Creation Code- Avinash<br>\n",
    "Query Tester Code - Manan and Tulika<br>\n",
    "WordNet Improvization - Manan<br>\n",
    "Zone Improvization - Avinash and Srijen<br>\n",
    "Optimal Weighing of Optimizations - Tulika<br>\n",
    "Finding Queries - Srijen<br>\n",
    "Report - Tulika and Srujana<br>\n",
    "Improvization Ideas - Everyone<br>"
   ]
  },
  {
   "cell_type": "markdown",
   "metadata": {},
   "source": [
    "# Demo Code\n",
    "## Importing Libraries"
   ]
  },
  {
   "cell_type": "code",
   "execution_count": 3,
   "metadata": {},
   "outputs": [],
   "source": [
    "#Importing Libraries and functions\n",
    "from test_queries import test_queries\n",
    "from query_finder import queries_finder_func as accumulator\n",
    "from index_creation import corpus_parser"
   ]
  },
  {
   "cell_type": "markdown",
   "metadata": {},
   "source": [
    "## Index Creation"
   ]
  },
  {
   "cell_type": "code",
   "execution_count": 7,
   "metadata": {},
   "outputs": [
    {
     "name": "stdout",
     "output_type": "stream",
     "text": [
      "Parsing Progress: Document_id = 1526 : Abnerin25uke of Prussiarave of Brandenburg-Kulmbach\n",
      "Documents separated and parsed\n",
      "Populating Zone-Term Frequency Table with doc 15261526\n",
      "Populating Term-Frequency Table done\n",
      "Zone Vector created for doc_no:15261526\n",
      "Document vector creation done\n"
     ]
    }
   ],
   "source": [
    "#Run if you want to parse corpus\n",
    "location = './Text_corpus/wiki_00'\n",
    "corpus_parser(location)"
   ]
  },
  {
   "cell_type": "markdown",
   "metadata": {},
   "source": [
    "## Testing using a query"
   ]
  },
  {
   "cell_type": "code",
   "execution_count": 4,
   "metadata": {},
   "outputs": [
    {
     "name": "stdout",
     "output_type": "stream",
     "text": [
      "Type the query: United States of America\n",
      "1136 0.128 America's National Game\n",
      "1241 0.125 American (word)\n",
      "1109 0.115 Geography of American Samoa\n",
      "892 0.113 Alfons Maria Jakob\n",
      "651 0.111 America the Beautiful\n",
      "659 0.105 American National Standards Institute\n",
      "1380 0.105 Alligatoridae\n",
      "1491 0.099 August 12\n",
      "1043 0.096 Northern cavefish\n",
      "1069 0.095 Demographics of Antigua and Barbuda\n"
     ]
    }
   ],
   "source": [
    "#Test query with custom parameters to configure optimziations\n",
    "test_queries(open_web=False,use_zones=False,enable_query_relaxation=False)"
   ]
  },
  {
   "cell_type": "code",
   "execution_count": 6,
   "metadata": {},
   "outputs": [
    {
     "name": "stdout",
     "output_type": "stream",
     "text": [
      "Type the query: Academy awards\n",
      "Normal:\n",
      "316 0.184 Academy Award for Best Production Design\n",
      "340 0.088 Alain Connes\n",
      "1247 0.087 Alfonso Cuarón\n",
      "324 0.084 Academy Awards\n",
      "869 0.084 American Film Institute\n",
      "593 0.073 Animation\n",
      "910 0.069 Arne Kaijser\n",
      "1449 0.056 Alan Kay\n",
      "851 0.055 Alfred Nobel\n",
      "800 0.052 Anime\n",
      "\n",
      "With zone:\n",
      "324 0.222 Academy Awards\n",
      "316 0.222 Academy Award for Best Production Design\n",
      "340 0.088 Alain Connes\n",
      "1247 0.087 Alfonso Cuarón\n",
      "869 0.084 American Film Institute\n",
      "593 0.073 Animation\n",
      "910 0.069 Arne Kaijser\n",
      "1449 0.056 Alan Kay\n",
      "851 0.055 Alfred Nobel\n",
      "800 0.052 Anime\n",
      "\n",
      "With Hypernym:\n",
      "844 1.662 Amsterdam\n",
      "1216 1.068 Athens\n",
      "308 0.631 Aristotle\n",
      "316 0.184 Academy Award for Best Production Design\n",
      "340 0.088 Alain Connes\n",
      "1247 0.087 Alfonso Cuarón\n",
      "324 0.084 Academy Awards\n",
      "869 0.084 American Film Institute\n",
      "593 0.073 Animation\n",
      "910 0.069 Arne Kaijser\n",
      "\n",
      "With Synonym:\n",
      "869 1.712 American Film Institute\n",
      "844 1.662 Amsterdam\n",
      "800 1.605 Anime\n",
      "851 1.568 Alfred Nobel\n",
      "593 1.523 Animation\n",
      "872 1.503 Akira Kurosawa\n",
      "324 1.473 Academy Awards\n",
      "1247 1.464 Alfonso Cuarón\n",
      "930 1.451 Alvin Toffler\n",
      "339 1.437 Ayn Rand\n"
     ]
    }
   ],
   "source": [
    "#Test query showing all improvizations\n",
    "accumulator()"
   ]
  },
  {
   "cell_type": "code",
   "execution_count": null,
   "metadata": {},
   "outputs": [],
   "source": []
  }
 ],
 "metadata": {
  "kernelspec": {
   "display_name": "Python 3",
   "language": "python",
   "name": "python3"
  },
  "language_info": {
   "codemirror_mode": {
    "name": "ipython",
    "version": 3
   },
   "file_extension": ".py",
   "mimetype": "text/x-python",
   "name": "python",
   "nbconvert_exporter": "python",
   "pygments_lexer": "ipython3",
   "version": "3.7.7"
  }
 },
 "nbformat": 4,
 "nbformat_minor": 2
}
